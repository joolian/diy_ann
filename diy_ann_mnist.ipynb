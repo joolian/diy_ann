{
 "cells": [
  {
   "cell_type": "markdown",
   "id": "bac15fde",
   "metadata": {},
   "source": [
    "# DIY Artificial Neural Network  \n",
    "Using for predicting the value of a handwritten number.  \n",
    "Code has been adapted from [Make your own neural network by Tariq Rashid](https://www.amazon.co.uk/Make-Your-Own-Neural-Network-ebook/dp/B01EER4Z4G/ref=tmm_kin_title_0?_encoding=UTF8&qid=1700000819&sr=8-1)"
   ]
  },
  {
   "cell_type": "code",
   "execution_count": 13,
   "id": "fa67e0c1",
   "metadata": {},
   "outputs": [],
   "source": [
    "from sklearn.datasets import fetch_openml\n",
    "from diy_ann import HandMadeNeuralNetwork\n",
    "import numpy as np\n",
    "\n",
    "from diy_ann import HandMadeNeuralNetwork"
   ]
  },
  {
   "cell_type": "code",
   "execution_count": 14,
   "id": "99439c98",
   "metadata": {},
   "outputs": [],
   "source": [
    "def scale_image(images):\n",
    "    \"\"\"Scales mnist images so that the value of each pixel is between 0.01 and 0.99\"\"\"\n",
    "    return images / 255 * 0.99 + 0.01\n",
    "\n",
    "\n",
    "def accuracy(predicted, targets):\n",
    "    \"\"\"Calculate the accuracy of the model predictions\"\"\"\n",
    "    scores = predicted == targets\n",
    "    return np.count_nonzero(scores) / np.shape(targets)[0]"
   ]
  },
  {
   "cell_type": "markdown",
   "id": "4f7bc34e",
   "metadata": {},
   "source": [
    "### Get the mnist images of numbers 0-9"
   ]
  },
  {
   "cell_type": "code",
   "execution_count": 15,
   "id": "22a4d812",
   "metadata": {
    "scrolled": false
   },
   "outputs": [],
   "source": [
    "mnist = fetch_openml('mnist_784', as_frame=False)\n",
    "X, y = mnist.data, mnist.target\n"
   ]
  },
  {
   "cell_type": "markdown",
   "id": "2ec21f53",
   "metadata": {},
   "source": [
    "### Train and test using the mnist data set\n",
    "Each image has 784 pixels, therefore we need the same number of input nodes.  \n",
    "There are 10 possible numbers, therefore we need 10 output nodes.  \n",
    "100 hidden nodes is as good a number as any.  \n",
    "Start with a learning rate of 0.3.  \n",
    "One epoch is fine for now."
   ]
  },
  {
   "cell_type": "code",
   "execution_count": 16,
   "id": "6734de61",
   "metadata": {},
   "outputs": [
    {
     "name": "stdout",
     "output_type": "stream",
     "text": [
      "Accuracy for the test data: 0.9365\n"
     ]
    }
   ],
   "source": [
    "y = y.astype(int)\n",
    "X_scaled = scale_image(X)\n",
    "X_train, X_test = X_scaled[:60000], X_scaled[60000:]\n",
    "y_train, y_test = y[:60000], y[60000:]\n",
    "\n",
    "ann = HandMadeNeuralNetwork(\n",
    "    input_nodes=784,\n",
    "    hidden_nodes=100,\n",
    "    output_nodes=10,\n",
    "    learning_rate=0.3,\n",
    "    epochs=1\n",
    ")\n",
    "ann.train(X_train, y_train)\n",
    "predictions = ann.predict(X_test)\n",
    "ann_accuracy = accuracy(predictions, y_test)\n",
    "print(f'Accuracy for the test data: {ann_accuracy}')"
   ]
  },
  {
   "cell_type": "markdown",
   "id": "5599cba5",
   "metadata": {},
   "source": [
    "### We should get the same predictions if we re-use the final connection weights in a new instance"
   ]
  },
  {
   "cell_type": "code",
   "execution_count": 17,
   "id": "41e9ed51",
   "metadata": {},
   "outputs": [
    {
     "name": "stdout",
     "output_type": "stream",
     "text": [
      "Accuracy of new instance for test data: 0.9365\n"
     ]
    }
   ],
   "source": [
    "input_weights = ann.input_weights\n",
    "hidden_weights = ann.hidden_weights\n",
    "\n",
    "another_ann = HandMadeNeuralNetwork(\n",
    "    input_nodes=784,\n",
    "    hidden_nodes=100,\n",
    "    output_nodes=10,\n",
    "    learning_rate=0.1,\n",
    "    epochs=5,\n",
    "    input_weights=input_weights,\n",
    "    hidden_weights=hidden_weights\n",
    ")\n",
    "predictions = another_ann.predict(X_test)\n",
    "another_accuracy = accuracy(predictions, y_test)\n",
    "print(f'Accuracy of new instance for test data: {another_accuracy}')"
   ]
  },
  {
   "cell_type": "code",
   "execution_count": null,
   "id": "17b5fb06",
   "metadata": {},
   "outputs": [],
   "source": []
  }
 ],
 "metadata": {
  "kernelspec": {
   "display_name": "Python 3 (ipykernel)",
   "language": "python",
   "name": "python3"
  },
  "language_info": {
   "codemirror_mode": {
    "name": "ipython",
    "version": 3
   },
   "file_extension": ".py",
   "mimetype": "text/x-python",
   "name": "python",
   "nbconvert_exporter": "python",
   "pygments_lexer": "ipython3",
   "version": "3.11.4"
  }
 },
 "nbformat": 4,
 "nbformat_minor": 5
}
